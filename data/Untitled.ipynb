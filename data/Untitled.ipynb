{
 "cells": [
  {
   "cell_type": "code",
   "execution_count": 3,
   "id": "73221637-a7e7-408a-9300-5b9ed5a9b572",
   "metadata": {},
   "outputs": [
    {
     "name": "stdout",
     "output_type": "stream",
     "text": [
      "BASE_DIR: C:\\Users\\otavi\\Documents\\MM_Dash\n",
      "DATA_DIR: C:\\Users\\otavi\\Documents\\MM_Dash\\data\n"
     ]
    }
   ],
   "source": [
    "# se você está DENTRO de ...\\MM_Dash\\data\n",
    "from pathlib import Path\n",
    "BASE_DIR = Path.cwd().resolve().parent     # volta 1 nível (para ...\\MM_Dash)\n",
    "DATA_DIR = Path.cwd().resolve()            # a pasta atual já é a data/\n",
    "print(\"BASE_DIR:\", BASE_DIR); print(\"DATA_DIR:\", DATA_DIR)\n",
    "\n"
   ]
  },
  {
   "cell_type": "code",
   "execution_count": 4,
   "id": "3ffda0cc-729c-4909-af8e-e5396fa6a7dc",
   "metadata": {},
   "outputs": [],
   "source": [
    "import pandas as pd\n",
    "df_p       = pd.read_parquet(DATA_DIR / \"df_p.parquet\")\n",
    "mapping_df = pd.read_parquet(DATA_DIR / \"mapping.parquet\")\n",
    "df_all     = pd.read_parquet(DATA_DIR / \"mapping_all.parquet\")\n",
    "\n",
    "arquivo    = DATA_DIR / \"serie_historica_atuarial_30_06.xlsx\"\n",
    "df_atu     = pd.read_excel(arquivo, parse_dates=[\"Data\"]).set_index(\"Data\")\n"
   ]
  },
  {
   "cell_type": "code",
   "execution_count": null,
   "id": "a9a0ba70-226e-4601-94ed-19d272eac1fa",
   "metadata": {},
   "outputs": [],
   "source": []
  }
 ],
 "metadata": {
  "kernelspec": {
   "display_name": "Python [conda env:base] *",
   "language": "python",
   "name": "conda-base-py"
  },
  "language_info": {
   "codemirror_mode": {
    "name": "ipython",
    "version": 3
   },
   "file_extension": ".py",
   "mimetype": "text/x-python",
   "name": "python",
   "nbconvert_exporter": "python",
   "pygments_lexer": "ipython3",
   "version": "3.12.7"
  }
 },
 "nbformat": 4,
 "nbformat_minor": 5
}
