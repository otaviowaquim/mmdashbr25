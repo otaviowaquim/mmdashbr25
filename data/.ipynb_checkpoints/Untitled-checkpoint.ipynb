{
 "cells": [
  {
   "cell_type": "code",
   "execution_count": 3,
   "id": "73221637-a7e7-408a-9300-5b9ed5a9b572",
   "metadata": {},
   "outputs": [
    {
     "name": "stdout",
     "output_type": "stream",
     "text": [
      "BASE_DIR: C:\\Users\\otavi\\Documents\\MM_Dash\n",
      "DATA_DIR: C:\\Users\\otavi\\Documents\\MM_Dash\\data\n"
     ]
    }
   ],
   "source": [
    "# se você está DENTRO de ...\\MM_Dash\\data\n",
    "from pathlib import Path\n",
    "BASE_DIR = Path.cwd().resolve().parent     # volta 1 nível (para ...\\MM_Dash)\n",
    "DATA_DIR = Path.cwd().resolve()            # a pasta atual já é a data/\n",
    "print(\"BASE_DIR:\", BASE_DIR); print(\"DATA_DIR:\", DATA_DIR)\n",
    "\n"
   ]
  },
  {
   "cell_type": "code",
   "execution_count": 4,
   "id": "3ffda0cc-729c-4909-af8e-e5396fa6a7dc",
   "metadata": {},
   "outputs": [],
   "source": [
    "import pandas as pd\n",
    "df_p       = pd.read_parquet(DATA_DIR / \"df_p.parquet\")\n",
    "mapping_df = pd.read_parquet(DATA_DIR / \"mapping.parquet\")\n",
    "df_all     = pd.read_parquet(DATA_DIR / \"mapping_all.parquet\")\n",
    "\n",
    "arquivo    = DATA_DIR / \"serie_historica_atuarial_30_06.xlsx\"\n",
    "df_atu     = pd.read_excel(arquivo, parse_dates=[\"Data\"]).set_index(\"Data\")\n"
   ]
  },
  {
   "cell_type": "code",
   "execution_count": 7,
   "id": "a9a0ba70-226e-4601-94ed-19d272eac1fa",
   "metadata": {},
   "outputs": [
    {
     "ename": "FileNotFoundError",
     "evalue": "data/df_p.parquet não encontrado e DFP_URL não configurado.",
     "output_type": "error",
     "traceback": [
      "\u001b[1;31m---------------------------------------------------------------------------\u001b[0m",
      "\u001b[1;31mFileNotFoundError\u001b[0m                         Traceback (most recent call last)",
      "Cell \u001b[1;32mIn[7], line 16\u001b[0m\n\u001b[0;32m     13\u001b[0m     \u001b[38;5;28;01mwith\u001b[39;00m \u001b[38;5;28mopen\u001b[39m(path, \u001b[38;5;124m\"\u001b[39m\u001b[38;5;124mwb\u001b[39m\u001b[38;5;124m\"\u001b[39m) \u001b[38;5;28;01mas\u001b[39;00m f:\n\u001b[0;32m     14\u001b[0m         f\u001b[38;5;241m.\u001b[39mwrite(r\u001b[38;5;241m.\u001b[39mcontent)\n\u001b[1;32m---> 16\u001b[0m ensure_file(\u001b[38;5;124m\"\u001b[39m\u001b[38;5;124mdata/df_p.parquet\u001b[39m\u001b[38;5;124m\"\u001b[39m,        \u001b[38;5;124m\"\u001b[39m\u001b[38;5;124mDFP_URL\u001b[39m\u001b[38;5;124m\"\u001b[39m)\n\u001b[0;32m     17\u001b[0m ensure_file(\u001b[38;5;124m\"\u001b[39m\u001b[38;5;124mdata/mapping.parquet\u001b[39m\u001b[38;5;124m\"\u001b[39m,     \u001b[38;5;124m\"\u001b[39m\u001b[38;5;124mMAPPING_URL\u001b[39m\u001b[38;5;124m\"\u001b[39m)\n\u001b[0;32m     18\u001b[0m ensure_file(\u001b[38;5;124m\"\u001b[39m\u001b[38;5;124mdata/mapping_all.parquet\u001b[39m\u001b[38;5;124m\"\u001b[39m, \u001b[38;5;124m\"\u001b[39m\u001b[38;5;124mMAPPING_ALL_URL\u001b[39m\u001b[38;5;124m\"\u001b[39m)\n",
      "Cell \u001b[1;32mIn[7], line 10\u001b[0m, in \u001b[0;36mensure_file\u001b[1;34m(path, url_env)\u001b[0m\n\u001b[0;32m      8\u001b[0m url \u001b[38;5;241m=\u001b[39m os\u001b[38;5;241m.\u001b[39mgetenv(url_env)\n\u001b[0;32m      9\u001b[0m \u001b[38;5;28;01mif\u001b[39;00m \u001b[38;5;129;01mnot\u001b[39;00m url:\n\u001b[1;32m---> 10\u001b[0m     \u001b[38;5;28;01mraise\u001b[39;00m \u001b[38;5;167;01mFileNotFoundError\u001b[39;00m(\u001b[38;5;124mf\u001b[39m\u001b[38;5;124m\"\u001b[39m\u001b[38;5;132;01m{\u001b[39;00mpath\u001b[38;5;132;01m}\u001b[39;00m\u001b[38;5;124m não encontrado e \u001b[39m\u001b[38;5;132;01m{\u001b[39;00murl_env\u001b[38;5;132;01m}\u001b[39;00m\u001b[38;5;124m não configurado.\u001b[39m\u001b[38;5;124m\"\u001b[39m)\n\u001b[0;32m     11\u001b[0m r \u001b[38;5;241m=\u001b[39m requests\u001b[38;5;241m.\u001b[39mget(url, timeout\u001b[38;5;241m=\u001b[39m\u001b[38;5;241m120\u001b[39m)\n\u001b[0;32m     12\u001b[0m r\u001b[38;5;241m.\u001b[39mraise_for_status()\n",
      "\u001b[1;31mFileNotFoundError\u001b[0m: data/df_p.parquet não encontrado e DFP_URL não configurado."
     ]
    }
   ],
   "source": [
    "import os, requests, pandas as pd\n",
    "\n",
    "os.makedirs(\"data\", exist_ok=True)\n",
    "\n",
    "def ensure_file(path, url_env):\n",
    "    if os.path.exists(path):\n",
    "        return\n",
    "    url = os.getenv(url_env)\n",
    "    if not url:\n",
    "        raise FileNotFoundError(f\"{path} não encontrado e {url_env} não configurado.\")\n",
    "    r = requests.get(url, timeout=120)\n",
    "    r.raise_for_status()\n",
    "    with open(path, \"wb\") as f:\n",
    "        f.write(r.content)\n",
    "\n",
    "ensure_file(\"data/df_p.parquet\",        \"DFP_URL\")\n",
    "ensure_file(\"data/mapping.parquet\",     \"MAPPING_URL\")\n",
    "ensure_file(\"data/mapping_all.parquet\", \"MAPPING_ALL_URL\")\n",
    "\n",
    "df_p        = pd.read_parquet(\"data/df_p.parquet\")\n",
    "mapping_df  = pd.read_parquet(\"data/mapping.parquet\")\n",
    "df_all      = pd.read_parquet(\"data/mapping_all.parquet\")\n"
   ]
  },
  {
   "cell_type": "code",
   "execution_count": null,
   "id": "24af689e-b208-4ced-b36c-d67c757d5efa",
   "metadata": {},
   "outputs": [],
   "source": []
  }
 ],
 "metadata": {
  "kernelspec": {
   "display_name": "Python [conda env:base] *",
   "language": "python",
   "name": "conda-base-py"
  },
  "language_info": {
   "codemirror_mode": {
    "name": "ipython",
    "version": 3
   },
   "file_extension": ".py",
   "mimetype": "text/x-python",
   "name": "python",
   "nbconvert_exporter": "python",
   "pygments_lexer": "ipython3",
   "version": "3.12.7"
  }
 },
 "nbformat": 4,
 "nbformat_minor": 5
}
